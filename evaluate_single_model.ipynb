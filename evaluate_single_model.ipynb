{
  "cells": [
    {
      "cell_type": "markdown",
      "metadata": {
        "id": "view-in-github",
        "colab_type": "text"
      },
      "source": [
        "<a href=\"https://colab.research.google.com/github/ryuan19/focal_calibration_project/blob/main/evaluate_single_model.ipynb\" target=\"_parent\"><img src=\"https://colab.research.google.com/assets/colab-badge.svg\" alt=\"Open In Colab\"/></a>"
      ]
    },
    {
      "cell_type": "code",
      "source": [
        "!rm -rf focal_calibration_project\n",
        "!git clone https://github.com/ryuan19/focal_calibration_project"
      ],
      "metadata": {
        "colab": {
          "base_uri": "https://localhost:8080/"
        },
        "id": "ugGLtaIX2prl",
        "outputId": "33455dbf-0269-4f72-9de0-5984fd3c1b89"
      },
      "execution_count": 2,
      "outputs": [
        {
          "output_type": "stream",
          "name": "stdout",
          "text": [
            "Cloning into 'focal_calibration_project'...\n",
            "remote: Enumerating objects: 373, done.\u001b[K\n",
            "remote: Counting objects: 100% (53/53), done.\u001b[K\n",
            "remote: Compressing objects: 100% (26/26), done.\u001b[K\n",
            "remote: Total 373 (delta 27), reused 53 (delta 27), pack-reused 320\u001b[K\n",
            "Receiving objects: 100% (373/373), 85.01 MiB | 14.73 MiB/s, done.\n",
            "Resolving deltas: 100% (158/158), done.\n"
          ]
        }
      ]
    },
    {
      "cell_type": "code",
      "source": [
        "!cd focal_calibration_project; ls; git pull"
      ],
      "metadata": {
        "colab": {
          "base_uri": "https://localhost:8080/"
        },
        "id": "-ZZ-T1_z3bza",
        "outputId": "e10362d9-1f40-4ccb-a4b0-11fe3745e136"
      },
      "execution_count": 10,
      "outputs": [
        {
          "output_type": "stream",
          "name": "stdout",
          "text": [
            "appspec.yml\t  Experiments  Net\t\t       train.py\n",
            "Data\t\t  LICENSE      README.md\t       train_scripts\n",
            "environment.yml   Losses       resnet50_results.png    train_utils.py\n",
            "evaluate.py\t  Metrics      roc.png\n",
            "evaluate_scripts  models       temperature_scaling.py\n",
            "Already up to date.\n"
          ]
        }
      ]
    },
    {
      "cell_type": "markdown",
      "metadata": {
        "id": "C6sgDNsu2jJ5"
      },
      "source": [
        "This notebook takes a trained model and evaluates it on the following metrics:\n",
        "1. ECE pre and post temperature scaling\n",
        "2. MCE pre and post temperature scaling\n",
        "3. Test error"
      ]
    },
    {
      "cell_type": "code",
      "execution_count": 3,
      "metadata": {
        "id": "NBiviVS_2jJ-"
      },
      "outputs": [],
      "source": [
        "import os\n",
        "import sys\n",
        "cwd = os.getcwd()\n",
        "module_path = \"/\".join(cwd.split('/')[0:-1])\n",
        "if module_path not in sys.path:\n",
        "    sys.path.append(module_path)\n",
        "import torch\n",
        "import random\n",
        "import matplotlib.pyplot as plt\n",
        "import torch.backends.cudnn as cudnn\n",
        "\n",
        "# sys.path.insert(1, '/focal_calibration_project')\n"
      ]
    },
    {
      "cell_type": "code",
      "execution_count": 4,
      "metadata": {
        "id": "Tjqqnrhh2jKA"
      },
      "outputs": [],
      "source": [
        "# Import dataloaders\n",
        "import focal_calibration_project.Data.cifar10  as cifar10\n",
        "import focal_calibration_project.Data.cifar100 as cifar100\n",
        "import focal_calibration_project.Data.tiny_imagenet as tiny_imagenet"
      ]
    },
    {
      "cell_type": "code",
      "execution_count": 5,
      "metadata": {
        "id": "4b1mUu5B2jKB"
      },
      "outputs": [],
      "source": [
        "# Import network architectures\n",
        "from focal_calibration_project.Net.resnet import resnet50, resnet110\n",
        "from focal_calibration_project.Net.wide_resnet import wide_resnet_cifar\n",
        "from focal_calibration_project.Net.densenet import densenet121\n",
        "from focal_calibration_project.Net.resnet_tiny_imagenet import resnet50 as resnet50_ti"
      ]
    },
    {
      "cell_type": "code",
      "execution_count": 6,
      "metadata": {
        "id": "YZmaVQM32jKC"
      },
      "outputs": [],
      "source": [
        "# Import metrics to compute\n",
        "from focal_calibration_project.Metrics.metrics import expected_calibration_error\n",
        "from focal_calibration_project.Metrics.metrics import maximum_calibration_error\n",
        "from focal_calibration_project.Metrics.metrics import l2_error\n",
        "from focal_calibration_project.Metrics.plots import reliability_plot, bin_strength_plot\n",
        "from focal_calibration_project.Metrics.metrics import test_classification_net"
      ]
    },
    {
      "cell_type": "code",
      "execution_count": 7,
      "metadata": {
        "id": "H64AkL9x2jKC"
      },
      "outputs": [],
      "source": [
        "# Dataset params\n",
        "\n",
        "dataset_num_classes = {\n",
        "    'cifar10': 10,\n",
        "    'cifar100': 100,\n",
        "    'tiny_imagenet': 200\n",
        "}\n",
        "\n",
        "dataset_loader = {\n",
        "    'cifar10': cifar10,\n",
        "    'cifar100': cifar100,\n",
        "    'tiny_imagenet': tiny_imagenet\n",
        "}"
      ]
    },
    {
      "cell_type": "code",
      "execution_count": 8,
      "metadata": {
        "id": "vZePGi2n2jKD"
      },
      "outputs": [],
      "source": [
        "# Mapping model name to model function\n",
        "models = {\n",
        "    'resnet50': resnet50,\n",
        "    'resnet50_ti': resnet50_ti,\n",
        "    'resnet110': resnet110,\n",
        "    'wide_resnet': wide_resnet_cifar,\n",
        "    'densenet121': densenet121,\n",
        "}"
      ]
    },
    {
      "cell_type": "code",
      "execution_count": 9,
      "metadata": {
        "id": "40ojkeki2jKD"
      },
      "outputs": [],
      "source": [
        "# Checking if GPU is available\n",
        "cuda = False\n",
        "if (torch.cuda.is_available()):\n",
        "    cuda = True\n",
        "\n",
        "# Setting additional parameters\n",
        "torch.manual_seed(1)\n",
        "device = torch.device(\"cuda\" if cuda else \"cpu\")"
      ]
    },
    {
      "cell_type": "code",
      "execution_count": 10,
      "metadata": {
        "id": "cWVhyXK92jKE"
      },
      "outputs": [],
      "source": [
        "class args:\n",
        "    data_aug = True\n",
        "    gpu = device == \"cuda\"\n",
        "    train_batch_size = 128\n",
        "    test_batch_size = 128"
      ]
    },
    {
      "cell_type": "code",
      "execution_count": 11,
      "metadata": {
        "colab": {
          "base_uri": "https://localhost:8080/",
          "height": 191,
          "referenced_widgets": [
            "5a0cad0df37646e09c044ddb15d90c9b",
            "da31562a812a4fbf8018dcc704364587",
            "ed522cf94cdc40e4a0a7bd23a23b6f3f",
            "d6b79f3ac92c43dc9583e3df53dc7bd8",
            "d42ef3190ac846edbac55f03da292111",
            "1d581589f56d4e2ea7867fd526db473d",
            "b44375f035804a5a9ca5a8f98133cfa8",
            "56d30673ff724179ae363fb1ab98543e",
            "46eb2f5e71e24a039826c23d22ac04c2",
            "6d1a4556db254a5a919616d770bc9675",
            "7d481cc6d7d44626b5ecf5a6d034e14b"
          ]
        },
        "id": "gzibdUAO2jKE",
        "outputId": "1425b603-817e-4f0e-98ef-dbd9b0a0e920"
      },
      "outputs": [
        {
          "output_type": "stream",
          "name": "stdout",
          "text": [
            "Enter the dataset: \n",
            "cifar10\n",
            "Downloading https://www.cs.toronto.edu/~kriz/cifar-10-python.tar.gz to ./data/cifar-10-python.tar.gz\n"
          ]
        },
        {
          "output_type": "display_data",
          "data": {
            "text/plain": [
              "  0%|          | 0/170498071 [00:00<?, ?it/s]"
            ],
            "application/vnd.jupyter.widget-view+json": {
              "version_major": 2,
              "version_minor": 0,
              "model_id": "5a0cad0df37646e09c044ddb15d90c9b"
            }
          },
          "metadata": {}
        },
        {
          "output_type": "stream",
          "name": "stdout",
          "text": [
            "Extracting ./data/cifar-10-python.tar.gz to ./data\n"
          ]
        },
        {
          "output_type": "stream",
          "name": "stderr",
          "text": [
            "/usr/local/lib/python3.7/dist-packages/torch/utils/data/dataloader.py:490: UserWarning: This DataLoader will create 4 worker processes in total. Our suggested max number of worker in current system is 2, which is smaller than what this DataLoader is going to create. Please be aware that excessive worker creation might get DataLoader running slow or even freeze, lower the worker number to avoid potential slowness/freeze if necessary.\n",
            "  cpuset_checked))\n"
          ]
        },
        {
          "output_type": "stream",
          "name": "stdout",
          "text": [
            "Files already downloaded and verified\n"
          ]
        }
      ],
      "source": [
        "# Taking input for the dataset\n",
        "# print ('Enter the dataset: ')\n",
        "# dataset = input()\n",
        "dataset = 'cifar10'\n",
        "num_classes = dataset_num_classes[dataset]\n",
        "\n",
        "if (dataset == 'tiny_imagenet'):\n",
        "    print ('Enter dataset root path: ')\n",
        "    dataset_root = input()\n",
        "    train_loader = dataset_loader[dataset].get_data_loader(\n",
        "        root=dataset_root,\n",
        "        split='train',\n",
        "        batch_size=args.train_batch_size,\n",
        "        pin_memory=args.gpu)\n",
        "\n",
        "    val_loader = dataset_loader[dataset].get_data_loader(\n",
        "        root=dataset_root,\n",
        "        split='val',\n",
        "        batch_size=args.test_batch_size,\n",
        "        pin_memory=args.gpu)\n",
        "\n",
        "    test_loader = dataset_loader[dataset].get_data_loader(\n",
        "        root=dataset_root,\n",
        "        split='val',\n",
        "        batch_size=args.test_batch_size,\n",
        "        pin_memory=args.gpu)\n",
        "else:\n",
        "    train_loader, val_loader = dataset_loader[dataset].get_train_valid_loader(\n",
        "        batch_size=args.train_batch_size,\n",
        "        augment=args.data_aug,\n",
        "        random_seed=1,\n",
        "        pin_memory=args.gpu\n",
        "    )\n",
        "\n",
        "    test_loader = dataset_loader[dataset].get_test_loader(\n",
        "        batch_size=args.test_batch_size,\n",
        "        pin_memory=args.gpu\n",
        "    )"
      ]
    },
    {
      "cell_type": "code",
      "execution_count": 12,
      "metadata": {
        "id": "HtaKGKB82jKG"
      },
      "outputs": [],
      "source": [
        "# Taking input for the model\n",
        "# print ('Enter the model: ')\n",
        "# model_name = input()\n",
        "# print ('Enter saved model name: ')\n",
        "# saved_model_name = input()\n",
        "\n",
        "model_name = \"resnet50\"\n",
        "saved_model_name = \"focal_calibration_project/models/resnet50_iq_loss_alpha_1.0_best_9.model\"\n",
        "\n",
        "model = models[model_name]"
      ]
    },
    {
      "cell_type": "code",
      "execution_count": 13,
      "metadata": {
        "colab": {
          "base_uri": "https://localhost:8080/",
          "height": 1000
        },
        "id": "asmlSF0L2jKG",
        "outputId": "4a5febfc-577f-4b50-e9d7-d108764321e5"
      },
      "outputs": [
        {
          "output_type": "stream",
          "name": "stderr",
          "text": [
            "/usr/local/lib/python3.7/dist-packages/torch/utils/data/dataloader.py:490: UserWarning: This DataLoader will create 4 worker processes in total. Our suggested max number of worker in current system is 2, which is smaller than what this DataLoader is going to create. Please be aware that excessive worker creation might get DataLoader running slow or even freeze, lower the worker number to avoid potential slowness/freeze if necessary.\n",
            "  cpuset_checked))\n"
          ]
        },
        {
          "output_type": "stream",
          "name": "stdout",
          "text": [
            "[[599   6  56  29  22   0   7   4 262  15]\n",
            " [  4 804   1   2   1   1   5   0 111  71]\n",
            " [ 27   0 690  71  79  22  66  21  20   4]\n",
            " [  9   3  47 701  49  47  61  31  35  17]\n",
            " [  4   0  35  60 801   3  32  43  16   6]\n",
            " [  2   1  53 212  42 584  28  64  11   3]\n",
            " [  5   1  48  38  32   8 843  11  12   2]\n",
            " [  6   0  18  30  63  19   3 819  29  13]\n",
            " [  8   3   4   6   1   0   2   2 972   2]\n",
            " [ 10  15   3   5   1   0   1   3 117 845]]\n",
            "Test error: 0.23419999999999996\n",
            "ECE: 0.055448553127050396\n",
            "MCE: 0.19011494517326355\n"
          ]
        },
        {
          "output_type": "display_data",
          "data": {
            "text/plain": [
              "<Figure size 720x576 with 1 Axes>"
            ],
            "image/png": "[encoded data removed]"
          },
          "metadata": {
            "needs_background": "light"
          }
        },
        {
          "output_type": "display_data",
          "data": {
            "text/plain": [
              "<Figure size 720x576 with 1 Axes>"
            ],
            "image/png": "[encoded data removed]"
          },
          "metadata": {
            "needs_background": "light"
          }
        }
      ],
      "source": [
        "# Evaluating the model at T = 1\n",
        "# Getting the number of bins\n",
        "# print ('Enter the number of bins: ')\n",
        "# num_bins = int(input())\n",
        "num_bins = 10\n",
        "net = model(num_classes=num_classes, temp=1.0)\n",
        "net.cuda()\n",
        "net = torch.nn.DataParallel(net, device_ids=range(torch.cuda.device_count()))\n",
        "cudnn.benchmark = True\n",
        "net.load_state_dict(torch.load('./' + str(saved_model_name)))\n",
        "\n",
        "conf_matrix, accuracy, labels, predictions, confidences = test_classification_net(net, test_loader, device)\n",
        "ece = expected_calibration_error(confidences, predictions, labels, num_bins=num_bins)\n",
        "mce = maximum_calibration_error(confidences, predictions, labels, num_bins=num_bins)\n",
        "\n",
        "# Printing the required evaluation metrics\n",
        "print (conf_matrix)\n",
        "print ('Test error: ' + str((1 - accuracy)))\n",
        "print ('ECE: ' + str(ece))\n",
        "print ('MCE: ' + str(mce))\n",
        "\n",
        "# Plotting the reliability plot\n",
        "reliability_plot(confidences, predictions, labels, num_bins=num_bins)\n",
        "bin_strength_plot(confidences, predictions, labels, num_bins=num_bins)"
      ]
    },
    {
      "cell_type": "code",
      "execution_count": 15,
      "metadata": {
        "colab": {
          "base_uri": "https://localhost:8080/",
          "height": 1000
        },
        "id": "YdKX1fzH2jKG",
        "outputId": "1a5a3dfd-d9ee-4cda-b2e1-dce33ad2f252"
      },
      "outputs": [
        {
          "name": "stdout",
          "output_type": "stream",
          "text": [
            "Enter the number of bins: \n",
            "15\n",
            "Enter the optimal temperature: \n",
            "2.5\n"
          ]
        },
        {
          "output_type": "stream",
          "name": "stderr",
          "text": [
            "/usr/local/lib/python3.7/dist-packages/torch/utils/data/dataloader.py:490: UserWarning: This DataLoader will create 4 worker processes in total. Our suggested max number of worker in current system is 2, which is smaller than what this DataLoader is going to create. Please be aware that excessive worker creation might get DataLoader running slow or even freeze, lower the worker number to avoid potential slowness/freeze if necessary.\n",
            "  cpuset_checked))\n"
          ]
        },
        {
          "output_type": "stream",
          "name": "stdout",
          "text": [
            "[[599   6  56  29  22   0   7   4 262  15]\n",
            " [  4 804   1   2   1   1   5   0 111  71]\n",
            " [ 27   0 690  71  79  22  66  21  20   4]\n",
            " [  9   3  47 701  49  47  61  31  35  17]\n",
            " [  4   0  35  60 801   3  32  43  16   6]\n",
            " [  2   1  53 212  42 584  28  64  11   3]\n",
            " [  5   1  48  38  32   8 843  11  12   2]\n",
            " [  6   0  18  30  63  19   3 819  29  13]\n",
            " [  8   3   4   6   1   0   2   2 972   2]\n",
            " [ 10  15   3   5   1   0   1   3 117 845]]\n",
            "Test error: 0.23419999999999996\n",
            "ECE: 0.2046683874890208\n",
            "MCE: 0.28991414777934543\n"
          ]
        },
        {
          "output_type": "display_data",
          "data": {
            "text/plain": [
              "<Figure size 720x576 with 1 Axes>"
            ],
            "image/png": "[encoded data removed]"
          },
          "metadata": {
            "needs_background": "light"
          }
        },
        {
          "output_type": "display_data",
          "data": {
            "text/plain": [
              "<Figure size 720x576 with 1 Axes>"
            ],
            "image/png": "[encoded data removed]"
          },
          "metadata": {
            "needs_background": "light"
          }
        }
      ],
      "source": [
        "# Evaluating the model at T = T_opt\n",
        "# Getting the number of bins\n",
        "print ('Enter the number of bins: ')\n",
        "num_bins = int(input())\n",
        "print ('Enter the optimal temperature: ')\n",
        "t_opt = float(input())\n",
        "\n",
        "net = model(num_classes=num_classes, temp=t_opt)\n",
        "net.cuda()\n",
        "net = torch.nn.DataParallel(net, device_ids=range(torch.cuda.device_count()))\n",
        "cudnn.benchmark = True\n",
        "net.load_state_dict(torch.load('./' + str(saved_model_name)))\n",
        "\n",
        "conf_matrix, accuracy, labels, predictions, confidences = test_classification_net(net, test_loader, device)\n",
        "ece = expected_calibration_error(confidences, predictions, labels, num_bins=num_bins)\n",
        "mce = maximum_calibration_error(confidences, predictions, labels, num_bins=num_bins)\n",
        "\n",
        "print (conf_matrix)\n",
        "print ('Test error: ' + str((1 - accuracy)))\n",
        "print ('ECE: ' + str(ece))\n",
        "print ('MCE: ' + str(mce))\n",
        "\n",
        "# Plotting the reliability plot\n",
        "reliability_plot(confidences, predictions, labels, num_bins=num_bins)\n",
        "bin_strength_plot(confidences, predictions, labels, num_bins=num_bins)"
      ]
    },
    {
      "cell_type": "code",
      "source": [
        ""
      ],
      "metadata": {
        "colab": {
          "base_uri": "https://localhost:8080/"
        },
        "id": "D9SJD0JH6KA_",
        "outputId": "78d09ec0-6b44-457e-88ab-fc382aadc13c"
      },
      "execution_count": 17,
      "outputs": [
        {
          "output_type": "stream",
          "name": "stdout",
          "text": [
            "appspec.yml\t  Experiments  Net\t\t       train.py\n",
            "Data\t\t  LICENSE      README.md\t       train_scripts\n",
            "environment.yml   Losses       resnet50_results.png    train_utils.py\n",
            "evaluate.py\t  Metrics      roc.png\n",
            "evaluate_scripts  models       temperature_scaling.py\n",
            "fatal: could not read Username for 'https://github.com': No such device or address\n"
          ]
        }
      ]
    },
    {
      "cell_type": "code",
      "source": [
        ""
      ],
      "metadata": {
        "id": "nEZK57vb7gZl"
      },
      "execution_count": null,
      "outputs": []
    }
  ],
  "metadata": {
    "kernelspec": {
      "display_name": "Python 3",
      "language": "python",
      "name": "python3"
    },
    "language_info": {
      "codemirror_mode": {
        "name": "ipython",
        "version": 3
      },
      "file_extension": ".py",
      "mimetype": "text/x-python",
      "name": "python",
      "nbconvert_exporter": "python",
      "pygments_lexer": "ipython3",
      "version": "3.7.6"
    },
    "colab": {
      "name": "evaluate_single_model.ipynb",
      "provenance": [],
      "collapsed_sections": [],
      "include_colab_link": true
    },
    "accelerator": "GPU",
    "widgets": {
      "application/vnd.jupyter.widget-state+json": {
        "5a0cad0df37646e09c044ddb15d90c9b": {
          "model_module": "@jupyter-widgets/controls",
          "model_name": "HBoxModel",
          "model_module_version": "1.5.0",
          "state": {
            "_dom_classes": [],
            "_model_module": "@jupyter-widgets/controls",
            "_model_module_version": "1.5.0",
            "_model_name": "HBoxModel",
            "_view_count": null,
            "_view_module": "@jupyter-widgets/controls",
            "_view_module_version": "1.5.0",
            "_view_name": "HBoxView",
            "box_style": "",
            "children": [
              "IPY_MODEL_da31562a812a4fbf8018dcc704364587",
              "IPY_MODEL_ed522cf94cdc40e4a0a7bd23a23b6f3f",
              "IPY_MODEL_d6b79f3ac92c43dc9583e3df53dc7bd8"
            ],
            "layout": "IPY_MODEL_d42ef3190ac846edbac55f03da292111"
          }
        },
        "da31562a812a4fbf8018dcc704364587": {
          "model_module": "@jupyter-widgets/controls",
          "model_name": "HTMLModel",
          "model_module_version": "1.5.0",
          "state": {
            "_dom_classes": [],
            "_model_module": "@jupyter-widgets/controls",
            "_model_module_version": "1.5.0",
            "_model_name": "HTMLModel",
            "_view_count": null,
            "_view_module": "@jupyter-widgets/controls",
            "_view_module_version": "1.5.0",
            "_view_name": "HTMLView",
            "description": "",
            "description_tooltip": null,
            "layout": "IPY_MODEL_1d581589f56d4e2ea7867fd526db473d",
            "placeholder": "​",
            "style": "IPY_MODEL_b44375f035804a5a9ca5a8f98133cfa8",
            "value": ""
          }
        },
        "ed522cf94cdc40e4a0a7bd23a23b6f3f": {
          "model_module": "@jupyter-widgets/controls",
          "model_name": "FloatProgressModel",
          "model_module_version": "1.5.0",
          "state": {
            "_dom_classes": [],
            "_model_module": "@jupyter-widgets/controls",
            "_model_module_version": "1.5.0",
            "_model_name": "FloatProgressModel",
            "_view_count": null,
            "_view_module": "@jupyter-widgets/controls",
            "_view_module_version": "1.5.0",
            "_view_name": "ProgressView",
            "bar_style": "success",
            "description": "",
            "description_tooltip": null,
            "layout": "IPY_MODEL_56d30673ff724179ae363fb1ab98543e",
            "max": 170498071,
            "min": 0,
            "orientation": "horizontal",
            "style": "IPY_MODEL_46eb2f5e71e24a039826c23d22ac04c2",
            "value": 170498071
          }
        },
        "d6b79f3ac92c43dc9583e3df53dc7bd8": {
          "model_module": "@jupyter-widgets/controls",
          "model_name": "HTMLModel",
          "model_module_version": "1.5.0",
          "state": {
            "_dom_classes": [],
            "_model_module": "@jupyter-widgets/controls",
            "_model_module_version": "1.5.0",
            "_model_name": "HTMLModel",
            "_view_count": null,
            "_view_module": "@jupyter-widgets/controls",
            "_view_module_version": "1.5.0",
            "_view_name": "HTMLView",
            "description": "",
            "description_tooltip": null,
            "layout": "IPY_MODEL_6d1a4556db254a5a919616d770bc9675",
            "placeholder": "​",
            "style": "IPY_MODEL_7d481cc6d7d44626b5ecf5a6d034e14b",
            "value": " 170499072/? [00:13&lt;00:00, 13261684.72it/s]"
          }
        },
        "d42ef3190ac846edbac55f03da292111": {
          "model_module": "@jupyter-widgets/base",
          "model_name": "LayoutModel",
          "model_module_version": "1.2.0",
          "state": {
            "_model_module": "@jupyter-widgets/base",
            "_model_module_version": "1.2.0",
            "_model_name": "LayoutModel",
            "_view_count": null,
            "_view_module": "@jupyter-widgets/base",
            "_view_module_version": "1.2.0",
            "_view_name": "LayoutView",
            "align_content": null,
            "align_items": null,
            "align_self": null,
            "border": null,
            "bottom": null,
            "display": null,
            "flex": null,
            "flex_flow": null,
            "grid_area": null,
            "grid_auto_columns": null,
            "grid_auto_flow": null,
            "grid_auto_rows": null,
            "grid_column": null,
            "grid_gap": null,
            "grid_row": null,
            "grid_template_areas": null,
            "grid_template_columns": null,
            "grid_template_rows": null,
            "height": null,
            "justify_content": null,
            "justify_items": null,
            "left": null,
            "margin": null,
            "max_height": null,
            "max_width": null,
            "min_height": null,
            "min_width": null,
            "object_fit": null,
            "object_position": null,
            "order": null,
            "overflow": null,
            "overflow_x": null,
            "overflow_y": null,
            "padding": null,
            "right": null,
            "top": null,
            "visibility": null,
            "width": null
          }
        },
        "1d581589f56d4e2ea7867fd526db473d": {
          "model_module": "@jupyter-widgets/base",
          "model_name": "LayoutModel",
          "model_module_version": "1.2.0",
          "state": {
            "_model_module": "@jupyter-widgets/base",
            "_model_module_version": "1.2.0",
            "_model_name": "LayoutModel",
            "_view_count": null,
            "_view_module": "@jupyter-widgets/base",
            "_view_module_version": "1.2.0",
            "_view_name": "LayoutView",
            "align_content": null,
            "align_items": null,
            "align_self": null,
            "border": null,
            "bottom": null,
            "display": null,
            "flex": null,
            "flex_flow": null,
            "grid_area": null,
            "grid_auto_columns": null,
            "grid_auto_flow": null,
            "grid_auto_rows": null,
            "grid_column": null,
            "grid_gap": null,
            "grid_row": null,
            "grid_template_areas": null,
            "grid_template_columns": null,
            "grid_template_rows": null,
            "height": null,
            "justify_content": null,
            "justify_items": null,
            "left": null,
            "margin": null,
            "max_height": null,
            "max_width": null,
            "min_height": null,
            "min_width": null,
            "object_fit": null,
            "object_position": null,
            "order": null,
            "overflow": null,
            "overflow_x": null,
            "overflow_y": null,
            "padding": null,
            "right": null,
            "top": null,
            "visibility": null,
            "width": null
          }
        },
        "b44375f035804a5a9ca5a8f98133cfa8": {
          "model_module": "@jupyter-widgets/controls",
          "model_name": "DescriptionStyleModel",
          "model_module_version": "1.5.0",
          "state": {
            "_model_module": "@jupyter-widgets/controls",
            "_model_module_version": "1.5.0",
            "_model_name": "DescriptionStyleModel",
            "_view_count": null,
            "_view_module": "@jupyter-widgets/base",
            "_view_module_version": "1.2.0",
            "_view_name": "StyleView",
            "description_width": ""
          }
        },
        "56d30673ff724179ae363fb1ab98543e": {
          "model_module": "@jupyter-widgets/base",
          "model_name": "LayoutModel",
          "model_module_version": "1.2.0",
          "state": {
            "_model_module": "@jupyter-widgets/base",
            "_model_module_version": "1.2.0",
            "_model_name": "LayoutModel",
            "_view_count": null,
            "_view_module": "@jupyter-widgets/base",
            "_view_module_version": "1.2.0",
            "_view_name": "LayoutView",
            "align_content": null,
            "align_items": null,
            "align_self": null,
            "border": null,
            "bottom": null,
            "display": null,
            "flex": null,
            "flex_flow": null,
            "grid_area": null,
            "grid_auto_columns": null,
            "grid_auto_flow": null,
            "grid_auto_rows": null,
            "grid_column": null,
            "grid_gap": null,
            "grid_row": null,
            "grid_template_areas": null,
            "grid_template_columns": null,
            "grid_template_rows": null,
            "height": null,
            "justify_content": null,
            "justify_items": null,
            "left": null,
            "margin": null,
            "max_height": null,
            "max_width": null,
            "min_height": null,
            "min_width": null,
            "object_fit": null,
            "object_position": null,
            "order": null,
            "overflow": null,
            "overflow_x": null,
            "overflow_y": null,
            "padding": null,
            "right": null,
            "top": null,
            "visibility": null,
            "width": null
          }
        },
        "46eb2f5e71e24a039826c23d22ac04c2": {
          "model_module": "@jupyter-widgets/controls",
          "model_name": "ProgressStyleModel",
          "model_module_version": "1.5.0",
          "state": {
            "_model_module": "@jupyter-widgets/controls",
            "_model_module_version": "1.5.0",
            "_model_name": "ProgressStyleModel",
            "_view_count": null,
            "_view_module": "@jupyter-widgets/base",
            "_view_module_version": "1.2.0",
            "_view_name": "StyleView",
            "bar_color": null,
            "description_width": ""
          }
        },
        "6d1a4556db254a5a919616d770bc9675": {
          "model_module": "@jupyter-widgets/base",
          "model_name": "LayoutModel",
          "model_module_version": "1.2.0",
          "state": {
            "_model_module": "@jupyter-widgets/base",
            "_model_module_version": "1.2.0",
            "_model_name": "LayoutModel",
            "_view_count": null,
            "_view_module": "@jupyter-widgets/base",
            "_view_module_version": "1.2.0",
            "_view_name": "LayoutView",
            "align_content": null,
            "align_items": null,
            "align_self": null,
            "border": null,
            "bottom": null,
            "display": null,
            "flex": null,
            "flex_flow": null,
            "grid_area": null,
            "grid_auto_columns": null,
            "grid_auto_flow": null,
            "grid_auto_rows": null,
            "grid_column": null,
            "grid_gap": null,
            "grid_row": null,
            "grid_template_areas": null,
            "grid_template_columns": null,
            "grid_template_rows": null,
            "height": null,
            "justify_content": null,
            "justify_items": null,
            "left": null,
            "margin": null,
            "max_height": null,
            "max_width": null,
            "min_height": null,
            "min_width": null,
            "object_fit": null,
            "object_position": null,
            "order": null,
            "overflow": null,
            "overflow_x": null,
            "overflow_y": null,
            "padding": null,
            "right": null,
            "top": null,
            "visibility": null,
            "width": null
          }
        },
        "7d481cc6d7d44626b5ecf5a6d034e14b": {
          "model_module": "@jupyter-widgets/controls",
          "model_name": "DescriptionStyleModel",
          "model_module_version": "1.5.0",
          "state": {
            "_model_module": "@jupyter-widgets/controls",
            "_model_module_version": "1.5.0",
            "_model_name": "DescriptionStyleModel",
            "_view_count": null,
            "_view_module": "@jupyter-widgets/base",
            "_view_module_version": "1.2.0",
            "_view_name": "StyleView",
            "description_width": ""
          }
        }
      }
    }
  },
  "nbformat": 4,
  "nbformat_minor": 0
}